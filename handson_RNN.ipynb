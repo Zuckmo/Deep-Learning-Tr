{
  "nbformat": 4,
  "nbformat_minor": 0,
  "metadata": {
    "colab": {
      "provenance": [],
      "include_colab_link": true
    },
    "kernelspec": {
      "name": "python3",
      "display_name": "Python 3"
    },
    "accelerator": "GPU"
  },
  "cells": [
    {
      "cell_type": "markdown",
      "metadata": {
        "id": "view-in-github",
        "colab_type": "text"
      },
      "source": [
        "<a href=\"https://colab.research.google.com/github/Zuckmo/Deep-Learning-Tr/blob/main/handson_RNN.ipynb\" target=\"_parent\"><img src=\"https://colab.research.google.com/assets/colab-badge.svg\" alt=\"Open In Colab\"/></a>"
      ]
    },
    {
      "cell_type": "markdown",
      "metadata": {
        "id": "hPm0rjF0xQFB"
      },
      "source": [
        "# **Prepare datasets**"
      ]
    },
    {
      "cell_type": "markdown",
      "source": [
        "Kita akan memakai dataset NusaX dari paper [berikut](https://arxiv.org/pdf/2205.15960.pdf). Pada link daaset terdapat \"train.csv\", \"valid.csv\", dan \"test.csv\".\n",
        "\n",
        "Setelah kita download dataset, kita upload ke Google Colab. Setelah itu kita panggil dengan Pandas dan karena file nya terpisah, kita gabung menjadi 1."
      ],
      "metadata": {
        "id": "cPqsK76WLykV"
      }
    },
    {
      "cell_type": "markdown",
      "source": [
        "\n",
        "[link dataset](https://drive.google.com/drive/folders/13DZ8VW2tVsHRgd0gz1MFzxZCl_5LWHzH?usp=share_link)"
      ],
      "metadata": {
        "id": "5yzVv8_DqAK7"
      }
    },
    {
      "cell_type": "code",
      "source": [
        "from google.colab import drive\n",
        "drive.mount('/content/drive')"
      ],
      "metadata": {
        "colab": {
          "base_uri": "https://localhost:8080/"
        },
        "id": "Opky40xEp4aZ",
        "outputId": "ecffa36e-99bc-4abd-eac5-68a5fe9026f6"
      },
      "execution_count": null,
      "outputs": [
        {
          "output_type": "stream",
          "name": "stdout",
          "text": [
            "Drive already mounted at /content/drive; to attempt to forcibly remount, call drive.mount(\"/content/drive\", force_remount=True).\n"
          ]
        }
      ]
    },
    {
      "cell_type": "code",
      "metadata": {
        "id": "IzLxzXemxc-I"
      },
      "source": [
        "import pandas as pd\n",
        "\n",
        "df_train = pd.read_csv('/content/drive/My Drive/handson/Dataset NusaX/train.csv')\n",
        "df_valid = pd.read_csv('/content/drive/My Drive/handson/Dataset NusaX/valid.csv')\n",
        "\n",
        "df = df_train.append(df_valid, ignore_index=True)"
      ],
      "execution_count": null,
      "outputs": []
    },
    {
      "cell_type": "code",
      "metadata": {
        "id": "XYKwcqwxg388"
      },
      "source": [
        "df_test = pd.read_csv('/content/drive/My Drive/handson/Dataset NusaX/test.csv')\n",
        "\n",
        "df = df.append(df_test, ignore_index=True)"
      ],
      "execution_count": null,
      "outputs": []
    },
    {
      "cell_type": "markdown",
      "source": [
        "Kita cek isi datasetnya dan di dalamnya terdapat 1000 data. Terdiri dari:\n",
        "\n",
        "\n",
        "*   Positive: 378\n",
        "*   Neutral: 239\n",
        "*   Negative: 383\n",
        "\n"
      ],
      "metadata": {
        "id": "gxDAmIdSQ5nm"
      }
    },
    {
      "cell_type": "code",
      "source": [
        "df.head()"
      ],
      "metadata": {
        "colab": {
          "base_uri": "https://localhost:8080/",
          "height": 206
        },
        "id": "3wLOPf8RRAjh",
        "outputId": "11e49215-40f6-4f56-9341-16d0f5c3eb0a"
      },
      "execution_count": null,
      "outputs": [
        {
          "output_type": "execute_result",
          "data": {
            "text/plain": [
              "    id                                               text     label\n",
              "0  219  Nikmati cicilan 0% hingga 12 bulan untuk pemes...   neutral\n",
              "1  209  Kue-kue yang disajikan bikin saya bernostalgia...  positive\n",
              "2  436               Ibu pernah bekerja di grab indonesia   neutral\n",
              "3  394  Paling suka banget makan siang di sini ayam sa...  positive\n",
              "4  592                    Pelayanan bus DAMRI sangat baik  positive"
            ],
            "text/html": [
              "\n",
              "  <div id=\"df-d58c8eda-be79-400c-95ec-8ad7265c6bb4\">\n",
              "    <div class=\"colab-df-container\">\n",
              "      <div>\n",
              "<style scoped>\n",
              "    .dataframe tbody tr th:only-of-type {\n",
              "        vertical-align: middle;\n",
              "    }\n",
              "\n",
              "    .dataframe tbody tr th {\n",
              "        vertical-align: top;\n",
              "    }\n",
              "\n",
              "    .dataframe thead th {\n",
              "        text-align: right;\n",
              "    }\n",
              "</style>\n",
              "<table border=\"1\" class=\"dataframe\">\n",
              "  <thead>\n",
              "    <tr style=\"text-align: right;\">\n",
              "      <th></th>\n",
              "      <th>id</th>\n",
              "      <th>text</th>\n",
              "      <th>label</th>\n",
              "    </tr>\n",
              "  </thead>\n",
              "  <tbody>\n",
              "    <tr>\n",
              "      <th>0</th>\n",
              "      <td>219</td>\n",
              "      <td>Nikmati cicilan 0% hingga 12 bulan untuk pemes...</td>\n",
              "      <td>neutral</td>\n",
              "    </tr>\n",
              "    <tr>\n",
              "      <th>1</th>\n",
              "      <td>209</td>\n",
              "      <td>Kue-kue yang disajikan bikin saya bernostalgia...</td>\n",
              "      <td>positive</td>\n",
              "    </tr>\n",
              "    <tr>\n",
              "      <th>2</th>\n",
              "      <td>436</td>\n",
              "      <td>Ibu pernah bekerja di grab indonesia</td>\n",
              "      <td>neutral</td>\n",
              "    </tr>\n",
              "    <tr>\n",
              "      <th>3</th>\n",
              "      <td>394</td>\n",
              "      <td>Paling suka banget makan siang di sini ayam sa...</td>\n",
              "      <td>positive</td>\n",
              "    </tr>\n",
              "    <tr>\n",
              "      <th>4</th>\n",
              "      <td>592</td>\n",
              "      <td>Pelayanan bus DAMRI sangat baik</td>\n",
              "      <td>positive</td>\n",
              "    </tr>\n",
              "  </tbody>\n",
              "</table>\n",
              "</div>\n",
              "      <button class=\"colab-df-convert\" onclick=\"convertToInteractive('df-d58c8eda-be79-400c-95ec-8ad7265c6bb4')\"\n",
              "              title=\"Convert this dataframe to an interactive table.\"\n",
              "              style=\"display:none;\">\n",
              "        \n",
              "  <svg xmlns=\"http://www.w3.org/2000/svg\" height=\"24px\"viewBox=\"0 0 24 24\"\n",
              "       width=\"24px\">\n",
              "    <path d=\"M0 0h24v24H0V0z\" fill=\"none\"/>\n",
              "    <path d=\"M18.56 5.44l.94 2.06.94-2.06 2.06-.94-2.06-.94-.94-2.06-.94 2.06-2.06.94zm-11 1L8.5 8.5l.94-2.06 2.06-.94-2.06-.94L8.5 2.5l-.94 2.06-2.06.94zm10 10l.94 2.06.94-2.06 2.06-.94-2.06-.94-.94-2.06-.94 2.06-2.06.94z\"/><path d=\"M17.41 7.96l-1.37-1.37c-.4-.4-.92-.59-1.43-.59-.52 0-1.04.2-1.43.59L10.3 9.45l-7.72 7.72c-.78.78-.78 2.05 0 2.83L4 21.41c.39.39.9.59 1.41.59.51 0 1.02-.2 1.41-.59l7.78-7.78 2.81-2.81c.8-.78.8-2.07 0-2.86zM5.41 20L4 18.59l7.72-7.72 1.47 1.35L5.41 20z\"/>\n",
              "  </svg>\n",
              "      </button>\n",
              "      \n",
              "  <style>\n",
              "    .colab-df-container {\n",
              "      display:flex;\n",
              "      flex-wrap:wrap;\n",
              "      gap: 12px;\n",
              "    }\n",
              "\n",
              "    .colab-df-convert {\n",
              "      background-color: #E8F0FE;\n",
              "      border: none;\n",
              "      border-radius: 50%;\n",
              "      cursor: pointer;\n",
              "      display: none;\n",
              "      fill: #1967D2;\n",
              "      height: 32px;\n",
              "      padding: 0 0 0 0;\n",
              "      width: 32px;\n",
              "    }\n",
              "\n",
              "    .colab-df-convert:hover {\n",
              "      background-color: #E2EBFA;\n",
              "      box-shadow: 0px 1px 2px rgba(60, 64, 67, 0.3), 0px 1px 3px 1px rgba(60, 64, 67, 0.15);\n",
              "      fill: #174EA6;\n",
              "    }\n",
              "\n",
              "    [theme=dark] .colab-df-convert {\n",
              "      background-color: #3B4455;\n",
              "      fill: #D2E3FC;\n",
              "    }\n",
              "\n",
              "    [theme=dark] .colab-df-convert:hover {\n",
              "      background-color: #434B5C;\n",
              "      box-shadow: 0px 1px 3px 1px rgba(0, 0, 0, 0.15);\n",
              "      filter: drop-shadow(0px 1px 2px rgba(0, 0, 0, 0.3));\n",
              "      fill: #FFFFFF;\n",
              "    }\n",
              "  </style>\n",
              "\n",
              "      <script>\n",
              "        const buttonEl =\n",
              "          document.querySelector('#df-d58c8eda-be79-400c-95ec-8ad7265c6bb4 button.colab-df-convert');\n",
              "        buttonEl.style.display =\n",
              "          google.colab.kernel.accessAllowed ? 'block' : 'none';\n",
              "\n",
              "        async function convertToInteractive(key) {\n",
              "          const element = document.querySelector('#df-d58c8eda-be79-400c-95ec-8ad7265c6bb4');\n",
              "          const dataTable =\n",
              "            await google.colab.kernel.invokeFunction('convertToInteractive',\n",
              "                                                     [key], {});\n",
              "          if (!dataTable) return;\n",
              "\n",
              "          const docLinkHtml = 'Like what you see? Visit the ' +\n",
              "            '<a target=\"_blank\" href=https://colab.research.google.com/notebooks/data_table.ipynb>data table notebook</a>'\n",
              "            + ' to learn more about interactive tables.';\n",
              "          element.innerHTML = '';\n",
              "          dataTable['output_type'] = 'display_data';\n",
              "          await google.colab.output.renderOutput(dataTable, element);\n",
              "          const docLink = document.createElement('div');\n",
              "          docLink.innerHTML = docLinkHtml;\n",
              "          element.appendChild(docLink);\n",
              "        }\n",
              "      </script>\n",
              "    </div>\n",
              "  </div>\n",
              "  "
            ]
          },
          "metadata": {},
          "execution_count": 9
        }
      ]
    },
    {
      "cell_type": "code",
      "source": [
        "df.shape"
      ],
      "metadata": {
        "colab": {
          "base_uri": "https://localhost:8080/"
        },
        "id": "ARQHu9L6RKz_",
        "outputId": "ea620383-5c8b-4ee6-b8b8-9e4e8fbcc7f0"
      },
      "execution_count": null,
      "outputs": [
        {
          "output_type": "execute_result",
          "data": {
            "text/plain": [
              "(1000, 3)"
            ]
          },
          "metadata": {},
          "execution_count": 10
        }
      ]
    },
    {
      "cell_type": "code",
      "source": [
        "df.label.value_counts()"
      ],
      "metadata": {
        "colab": {
          "base_uri": "https://localhost:8080/"
        },
        "id": "_By_KBwtRPrv",
        "outputId": "c8adc03a-7be6-460f-f68a-c60e330795f2"
      },
      "execution_count": null,
      "outputs": [
        {
          "output_type": "execute_result",
          "data": {
            "text/plain": [
              "negative    383\n",
              "positive    378\n",
              "neutral     239\n",
              "Name: label, dtype: int64"
            ]
          },
          "metadata": {},
          "execution_count": 11
        }
      ]
    },
    {
      "cell_type": "markdown",
      "metadata": {
        "id": "IdaMLFPxCADq"
      },
      "source": [
        "# **Text Normalization/Cleansing**"
      ]
    },
    {
      "cell_type": "markdown",
      "source": [
        "Lalu kita lakukan cleansing sebagai berikut"
      ],
      "metadata": {
        "id": "RQGFotyxJp8e"
      }
    },
    {
      "cell_type": "code",
      "metadata": {
        "id": "cBuvnl7iCADu"
      },
      "source": [
        "import re\n",
        "\n",
        "def cleansing(sent):\n",
        "    # Mengubah kata menjadi huruf kecil semua dengan menggunakan fungsi lower()\n",
        "    string = sent.lower()\n",
        "    # Menghapus emoticon dan tanda baca menggunakan \"RegEx\" dengan script di bawah\n",
        "    string = re.sub(r'[^a-zA-Z0-9]', ' ', string)\n",
        "    return string"
      ],
      "execution_count": null,
      "outputs": []
    },
    {
      "cell_type": "code",
      "source": [
        "df['text_clean'] = df.text.apply(cleansing)"
      ],
      "metadata": {
        "id": "eCYJNdgAJ4if"
      },
      "execution_count": null,
      "outputs": []
    },
    {
      "cell_type": "code",
      "metadata": {
        "colab": {
          "base_uri": "https://localhost:8080/",
          "height": 206
        },
        "outputId": "ddccc532-24d0-4fc9-9359-ba72ac8c40a7",
        "id": "RzGIdv4gCADv"
      },
      "source": [
        "df.head()"
      ],
      "execution_count": null,
      "outputs": [
        {
          "output_type": "execute_result",
          "data": {
            "text/plain": [
              "    id                                               text     label  \\\n",
              "0  219  Nikmati cicilan 0% hingga 12 bulan untuk pemes...   neutral   \n",
              "1  209  Kue-kue yang disajikan bikin saya bernostalgia...  positive   \n",
              "2  436               Ibu pernah bekerja di grab indonesia   neutral   \n",
              "3  394  Paling suka banget makan siang di sini ayam sa...  positive   \n",
              "4  592                    Pelayanan bus DAMRI sangat baik  positive   \n",
              "\n",
              "                                          text_clean  \n",
              "0  nikmati cicilan 0  hingga 12 bulan untuk pemes...  \n",
              "1  kue kue yang disajikan bikin saya bernostalgia...  \n",
              "2               ibu pernah bekerja di grab indonesia  \n",
              "3  paling suka banget makan siang di sini ayam sa...  \n",
              "4                    pelayanan bus damri sangat baik  "
            ],
            "text/html": [
              "\n",
              "  <div id=\"df-9ed625c7-d060-4d5c-be88-93adea2ed5cf\">\n",
              "    <div class=\"colab-df-container\">\n",
              "      <div>\n",
              "<style scoped>\n",
              "    .dataframe tbody tr th:only-of-type {\n",
              "        vertical-align: middle;\n",
              "    }\n",
              "\n",
              "    .dataframe tbody tr th {\n",
              "        vertical-align: top;\n",
              "    }\n",
              "\n",
              "    .dataframe thead th {\n",
              "        text-align: right;\n",
              "    }\n",
              "</style>\n",
              "<table border=\"1\" class=\"dataframe\">\n",
              "  <thead>\n",
              "    <tr style=\"text-align: right;\">\n",
              "      <th></th>\n",
              "      <th>id</th>\n",
              "      <th>text</th>\n",
              "      <th>label</th>\n",
              "      <th>text_clean</th>\n",
              "    </tr>\n",
              "  </thead>\n",
              "  <tbody>\n",
              "    <tr>\n",
              "      <th>0</th>\n",
              "      <td>219</td>\n",
              "      <td>Nikmati cicilan 0% hingga 12 bulan untuk pemes...</td>\n",
              "      <td>neutral</td>\n",
              "      <td>nikmati cicilan 0  hingga 12 bulan untuk pemes...</td>\n",
              "    </tr>\n",
              "    <tr>\n",
              "      <th>1</th>\n",
              "      <td>209</td>\n",
              "      <td>Kue-kue yang disajikan bikin saya bernostalgia...</td>\n",
              "      <td>positive</td>\n",
              "      <td>kue kue yang disajikan bikin saya bernostalgia...</td>\n",
              "    </tr>\n",
              "    <tr>\n",
              "      <th>2</th>\n",
              "      <td>436</td>\n",
              "      <td>Ibu pernah bekerja di grab indonesia</td>\n",
              "      <td>neutral</td>\n",
              "      <td>ibu pernah bekerja di grab indonesia</td>\n",
              "    </tr>\n",
              "    <tr>\n",
              "      <th>3</th>\n",
              "      <td>394</td>\n",
              "      <td>Paling suka banget makan siang di sini ayam sa...</td>\n",
              "      <td>positive</td>\n",
              "      <td>paling suka banget makan siang di sini ayam sa...</td>\n",
              "    </tr>\n",
              "    <tr>\n",
              "      <th>4</th>\n",
              "      <td>592</td>\n",
              "      <td>Pelayanan bus DAMRI sangat baik</td>\n",
              "      <td>positive</td>\n",
              "      <td>pelayanan bus damri sangat baik</td>\n",
              "    </tr>\n",
              "  </tbody>\n",
              "</table>\n",
              "</div>\n",
              "      <button class=\"colab-df-convert\" onclick=\"convertToInteractive('df-9ed625c7-d060-4d5c-be88-93adea2ed5cf')\"\n",
              "              title=\"Convert this dataframe to an interactive table.\"\n",
              "              style=\"display:none;\">\n",
              "        \n",
              "  <svg xmlns=\"http://www.w3.org/2000/svg\" height=\"24px\"viewBox=\"0 0 24 24\"\n",
              "       width=\"24px\">\n",
              "    <path d=\"M0 0h24v24H0V0z\" fill=\"none\"/>\n",
              "    <path d=\"M18.56 5.44l.94 2.06.94-2.06 2.06-.94-2.06-.94-.94-2.06-.94 2.06-2.06.94zm-11 1L8.5 8.5l.94-2.06 2.06-.94-2.06-.94L8.5 2.5l-.94 2.06-2.06.94zm10 10l.94 2.06.94-2.06 2.06-.94-2.06-.94-.94-2.06-.94 2.06-2.06.94z\"/><path d=\"M17.41 7.96l-1.37-1.37c-.4-.4-.92-.59-1.43-.59-.52 0-1.04.2-1.43.59L10.3 9.45l-7.72 7.72c-.78.78-.78 2.05 0 2.83L4 21.41c.39.39.9.59 1.41.59.51 0 1.02-.2 1.41-.59l7.78-7.78 2.81-2.81c.8-.78.8-2.07 0-2.86zM5.41 20L4 18.59l7.72-7.72 1.47 1.35L5.41 20z\"/>\n",
              "  </svg>\n",
              "      </button>\n",
              "      \n",
              "  <style>\n",
              "    .colab-df-container {\n",
              "      display:flex;\n",
              "      flex-wrap:wrap;\n",
              "      gap: 12px;\n",
              "    }\n",
              "\n",
              "    .colab-df-convert {\n",
              "      background-color: #E8F0FE;\n",
              "      border: none;\n",
              "      border-radius: 50%;\n",
              "      cursor: pointer;\n",
              "      display: none;\n",
              "      fill: #1967D2;\n",
              "      height: 32px;\n",
              "      padding: 0 0 0 0;\n",
              "      width: 32px;\n",
              "    }\n",
              "\n",
              "    .colab-df-convert:hover {\n",
              "      background-color: #E2EBFA;\n",
              "      box-shadow: 0px 1px 2px rgba(60, 64, 67, 0.3), 0px 1px 3px 1px rgba(60, 64, 67, 0.15);\n",
              "      fill: #174EA6;\n",
              "    }\n",
              "\n",
              "    [theme=dark] .colab-df-convert {\n",
              "      background-color: #3B4455;\n",
              "      fill: #D2E3FC;\n",
              "    }\n",
              "\n",
              "    [theme=dark] .colab-df-convert:hover {\n",
              "      background-color: #434B5C;\n",
              "      box-shadow: 0px 1px 3px 1px rgba(0, 0, 0, 0.15);\n",
              "      filter: drop-shadow(0px 1px 2px rgba(0, 0, 0, 0.3));\n",
              "      fill: #FFFFFF;\n",
              "    }\n",
              "  </style>\n",
              "\n",
              "      <script>\n",
              "        const buttonEl =\n",
              "          document.querySelector('#df-9ed625c7-d060-4d5c-be88-93adea2ed5cf button.colab-df-convert');\n",
              "        buttonEl.style.display =\n",
              "          google.colab.kernel.accessAllowed ? 'block' : 'none';\n",
              "\n",
              "        async function convertToInteractive(key) {\n",
              "          const element = document.querySelector('#df-9ed625c7-d060-4d5c-be88-93adea2ed5cf');\n",
              "          const dataTable =\n",
              "            await google.colab.kernel.invokeFunction('convertToInteractive',\n",
              "                                                     [key], {});\n",
              "          if (!dataTable) return;\n",
              "\n",
              "          const docLinkHtml = 'Like what you see? Visit the ' +\n",
              "            '<a target=\"_blank\" href=https://colab.research.google.com/notebooks/data_table.ipynb>data table notebook</a>'\n",
              "            + ' to learn more about interactive tables.';\n",
              "          element.innerHTML = '';\n",
              "          dataTable['output_type'] = 'display_data';\n",
              "          await google.colab.output.renderOutput(dataTable, element);\n",
              "          const docLink = document.createElement('div');\n",
              "          docLink.innerHTML = docLinkHtml;\n",
              "          element.appendChild(docLink);\n",
              "        }\n",
              "      </script>\n",
              "    </div>\n",
              "  </div>\n",
              "  "
            ]
          },
          "metadata": {},
          "execution_count": 14
        }
      ]
    },
    {
      "cell_type": "markdown",
      "source": [
        "Sortir data dan label berdasarkan sentimen"
      ],
      "metadata": {
        "id": "wpzN3Ma9KNkU"
      }
    },
    {
      "cell_type": "code",
      "metadata": {
        "id": "mQl_aBZnCADx"
      },
      "source": [
        "neg = df.loc[df['label'] == 'negative'].text_clean.tolist()\n",
        "neu = df.loc[df['label'] == 'neutral'].text_clean.tolist()\n",
        "pos = df.loc[df['label'] == 'positive'].text_clean.tolist()\n",
        "\n",
        "neg_label = df.loc[df['label'] == 'negative'].label.tolist()\n",
        "neu_label = df.loc[df['label'] == 'neutral'].label.tolist()\n",
        "pos_label = df.loc[df['label'] == 'positive'].label.tolist()"
      ],
      "execution_count": null,
      "outputs": []
    },
    {
      "cell_type": "code",
      "metadata": {
        "colab": {
          "base_uri": "https://localhost:8080/"
        },
        "outputId": "7057278f-8301-4b91-9ff5-99e05ff1b461",
        "id": "Bk0n_VhSCADx"
      },
      "source": [
        "total_data = pos + neu + neg\n",
        "labels = pos_label + neu_label + neg_label\n",
        "\n",
        "print(\"Pos: %s, Neu: %s, Neg: %s\" % (len(pos), len(neu), len(neg)))\n",
        "print(\"Total data: %s\" % len(total_data))"
      ],
      "execution_count": null,
      "outputs": [
        {
          "output_type": "stream",
          "name": "stdout",
          "text": [
            "Pos: 378, Neu: 239, Neg: 383\n",
            "Total data: 1000\n"
          ]
        }
      ]
    },
    {
      "cell_type": "markdown",
      "metadata": {
        "id": "OCZ-6bD23neM"
      },
      "source": [
        "# **Feature Extraction**"
      ]
    },
    {
      "cell_type": "markdown",
      "source": [
        "Setelah itu kita lakukan Feature Extraction menggunakan modul \"Tokenizer\" dan \"pad_sequences\" dari Tensorflow.\n",
        "\n",
        "Module Tokenizer memungkinkan untuk memvektorisasi korpus teks, dengan mengubah setiap teks menjadi urutan bilangan bulat (setiap bilangan bulat menjadi indeks token dalam kamus) atau menjadi vektor di mana koefisien untuk setiap token bisa biner, berdasarkan jumlah kata , berdasarkan tf-idf.\n",
        "\n",
        "Module pad_sequences memungkinkan mengubah list dari sequences menjadi array bentuk 2D."
      ],
      "metadata": {
        "id": "mPuGm_LQCOBo"
      }
    },
    {
      "cell_type": "code",
      "metadata": {
        "id": "PCiZaFUIpW2M",
        "colab": {
          "base_uri": "https://localhost:8080/"
        },
        "outputId": "388696f2-7495-4696-884b-1825822baf76"
      },
      "source": [
        "import pickle\n",
        "from tensorflow.keras.preprocessing.text import Tokenizer\n",
        "from tensorflow.keras.preprocessing.sequence import pad_sequences\n",
        "from collections import defaultdict\n",
        "\n",
        "max_features = 100000\n",
        "tokenizer = Tokenizer(num_words=max_features, split=' ', lower=True)\n",
        "tokenizer.fit_on_texts(total_data)\n",
        "with open('tokenizer.pickle', 'wb') as handle:\n",
        "    pickle.dump(tokenizer, handle, protocol=pickle.HIGHEST_PROTOCOL)\n",
        "    print(\"tokenizer.pickle has created!\")\n",
        "\n",
        "X = tokenizer.texts_to_sequences(total_data)\n",
        "\n",
        "vocab_size = len(tokenizer.word_index)\n",
        "maxlen = max(len(x) for x in X)\n",
        "\n",
        "X = pad_sequences(X)\n",
        "with open('x_pad_sequences.pickle', 'wb') as handle:\n",
        "    pickle.dump(X, handle, protocol=pickle.HIGHEST_PROTOCOL)\n",
        "    print(\"x_pad_sequences.pickle has created!\")"
      ],
      "execution_count": null,
      "outputs": [
        {
          "output_type": "stream",
          "name": "stdout",
          "text": [
            "tokenizer.pickle has created!\n",
            "x_pad_sequences.pickle has created!\n"
          ]
        }
      ]
    },
    {
      "cell_type": "code",
      "metadata": {
        "id": "_Y_7Y0oP1PSk",
        "colab": {
          "base_uri": "https://localhost:8080/"
        },
        "outputId": "ef697b77-cb49-4445-eb00-ddbb2748ccd4"
      },
      "source": [
        "Y = pd.get_dummies(labels)\n",
        "Y = Y.values\n",
        "\n",
        "with open('y_labels.pickle', 'wb') as handle:\n",
        "    pickle.dump(Y, handle, protocol=pickle.HIGHEST_PROTOCOL)\n",
        "    print(\"y_labels.pickle has created!\")"
      ],
      "execution_count": null,
      "outputs": [
        {
          "output_type": "stream",
          "name": "stdout",
          "text": [
            "y_labels.pickle has created!\n"
          ]
        }
      ]
    },
    {
      "cell_type": "markdown",
      "metadata": {
        "id": "TLEGjbe55MCw"
      },
      "source": [
        "# **Prepare train & test datasets/Splitting Dataset**"
      ]
    },
    {
      "cell_type": "markdown",
      "source": [
        "Split dataset menjadi 80% untuk train dan 20% untuk test."
      ],
      "metadata": {
        "id": "hBdXaZ5oCjHJ"
      }
    },
    {
      "cell_type": "code",
      "metadata": {
        "id": "0sy76K3El8GT"
      },
      "source": [
        "from sklearn.model_selection import train_test_split\n",
        "\n",
        "file = open(\"x_pad_sequences.pickle\",'rb')\n",
        "X = pickle.load(file)\n",
        "file.close()\n",
        "\n",
        "file = open(\"y_labels.pickle\",'rb')\n",
        "Y = pickle.load(file)\n",
        "file.close()\n",
        "\n",
        "X_train, X_test, y_train, y_test = train_test_split(X, Y, test_size=0.2, random_state=1)"
      ],
      "execution_count": null,
      "outputs": []
    },
    {
      "cell_type": "markdown",
      "metadata": {
        "id": "hOMfSOcTt0pt"
      },
      "source": [
        "# **Training**"
      ]
    },
    {
      "cell_type": "markdown",
      "source": [
        "Jalankan training dengan metode RNN. Arsitektur RNN ini dibangun menggunakan framework Tensorflow."
      ],
      "metadata": {
        "id": "TsY3YYiHXBD7"
      }
    },
    {
      "cell_type": "code",
      "metadata": {
        "id": "RdSqgAENqWKS"
      },
      "source": [
        "import numpy as np\n",
        "from tensorflow.keras import layers\n",
        "from tensorflow.keras.models import Sequential\n",
        "from tensorflow.keras.layers import Dense, Embedding, LSTM, SpatialDropout1D, SimpleRNN, Activation\n",
        "from tensorflow.keras import optimizers\n",
        "from tensorflow.keras.callbacks import EarlyStopping, TensorBoard\n",
        "from tensorflow.keras.layers import Flatten\n",
        "from tensorflow.keras import backend as K"
      ],
      "execution_count": null,
      "outputs": []
    },
    {
      "cell_type": "markdown",
      "source": [
        "Adapun arsitektur RNN yang dibangun sebagai berikut:\n",
        "\n",
        "\n",
        "*   Input Layer: Data teks setelah dilakukan Feature Extraction, dikondisikan menjadi sebuah matrix berdimensi 100.\n",
        "*   Unit Layer: Pada bagian ini diterapkan unit/neuron sejumlah 64. Pada tahap ini pula fitur Dropout diterapkan guna meminimalisir overfitting.\n",
        "*   Fully-connected Layer: Setelah proses convolution, dikondisikan sebagai input untuk Multi-layer Perceptron terdiri dari 10 input dan 3 output. Pada tahap ini diimplementasikan pula aktivasi \"softmax\".\n",
        "\n",
        "Untuk mencegah overfitting, kita menerapkan EarlyStopping. Sehingga, meskipun epoch belum selesai, training sudah selesai."
      ],
      "metadata": {
        "id": "eFsyBO-DXHT2"
      }
    },
    {
      "cell_type": "code",
      "metadata": {
        "id": "gJZvNLSsqa6G",
        "colab": {
          "base_uri": "https://localhost:8080/"
        },
        "outputId": "d85d7188-2a83-4e6c-a9f4-72921a72ff51"
      },
      "source": [
        "embed_dim = 100\n",
        "units = 64\n",
        "\n",
        "model = Sequential()\n",
        "model.add(Embedding(max_features, embed_dim, input_length=X.shape[1]))\n",
        "model.add(SimpleRNN(units, dropout=0.5))\n",
        "model.add(Dense(3,activation='softmax'))\n",
        "# sgd = optimizers.Adam(lr=0.001)\n",
        "model.compile(loss = 'binary_crossentropy', optimizer='adam',metrics = ['accuracy'])\n",
        "print(model.summary())\n",
        "\n",
        "adam = optimizers.Adam(lr = 0.001)\n",
        "model.compile(loss = 'categorical_crossentropy', optimizer = adam, metrics = ['accuracy'])\n",
        "\n",
        "es = EarlyStopping(monitor='val_loss', mode='min', verbose=1)\n",
        "history = model.fit(X_train, y_train, epochs=10, batch_size=10, validation_data=(X_test, y_test), verbose=1, callbacks=[es])"
      ],
      "execution_count": null,
      "outputs": [
        {
          "output_type": "stream",
          "name": "stdout",
          "text": [
            "Model: \"sequential_6\"\n",
            "_________________________________________________________________\n",
            " Layer (type)                Output Shape              Param #   \n",
            "=================================================================\n",
            " embedding_6 (Embedding)     (None, 77, 100)           10000000  \n",
            "                                                                 \n",
            " simple_rnn_6 (SimpleRNN)    (None, 64)                10560     \n",
            "                                                                 \n",
            " dense_6 (Dense)             (None, 3)                 195       \n",
            "                                                                 \n",
            "=================================================================\n",
            "Total params: 10,010,755\n",
            "Trainable params: 10,010,755\n",
            "Non-trainable params: 0\n",
            "_________________________________________________________________\n",
            "None\n",
            "Epoch 1/10\n"
          ]
        },
        {
          "output_type": "stream",
          "name": "stderr",
          "text": [
            "/usr/local/lib/python3.8/dist-packages/keras/optimizers/optimizer_v2/adam.py:110: UserWarning: The `lr` argument is deprecated, use `learning_rate` instead.\n",
            "  super(Adam, self).__init__(name, **kwargs)\n"
          ]
        },
        {
          "output_type": "stream",
          "name": "stdout",
          "text": [
            "80/80 [==============================] - 6s 67ms/step - loss: 0.9791 - accuracy: 0.4963 - val_loss: 0.9095 - val_accuracy: 0.5600\n",
            "Epoch 2/10\n",
            "80/80 [==============================] - 5s 64ms/step - loss: 0.6465 - accuracy: 0.7750 - val_loss: 0.9356 - val_accuracy: 0.5150\n",
            "Epoch 2: early stopping\n"
          ]
        }
      ]
    },
    {
      "cell_type": "markdown",
      "metadata": {
        "id": "JTDFlmsbxJmI"
      },
      "source": [
        "# Evaluation"
      ]
    },
    {
      "cell_type": "markdown",
      "source": [
        "## Confussion Matrix, Accuracy, F1, Recall, Precision"
      ],
      "metadata": {
        "id": "vjslk5QjUHWm"
      }
    },
    {
      "cell_type": "markdown",
      "source": [
        "Langkah selanjutnya adalah \"Evaluation\". Module \"classification_report\" dari Sklearn merupakan salah satu modul untuk melakukan \"Evaluation\". Pada tahap evaluasi ini kita akan menerapkan metode evaluasi Accuracy, Precision, Recall dan F1-Score."
      ],
      "metadata": {
        "id": "FNKvXPIkIbeq"
      }
    },
    {
      "cell_type": "code",
      "metadata": {
        "id": "aO8f3EBDudt4",
        "colab": {
          "base_uri": "https://localhost:8080/"
        },
        "outputId": "daf9cc78-a35e-4454-b5de-05b0f2b94c14"
      },
      "source": [
        "from sklearn import metrics\n",
        "\n",
        "predictions = model.predict(X_test)\n",
        "y_pred = predictions\n",
        "matrix_test = metrics.classification_report(y_test.argmax(axis=1), y_pred.argmax(axis=1))\n",
        "print(\"Testing selesai\")\n",
        "print(matrix_test)"
      ],
      "execution_count": null,
      "outputs": [
        {
          "output_type": "stream",
          "name": "stdout",
          "text": [
            "7/7 [==============================] - 0s 7ms/step\n",
            "Testing selesai\n",
            "              precision    recall  f1-score   support\n",
            "\n",
            "           0       0.59      0.45      0.51        73\n",
            "           1       0.57      0.56      0.56        54\n",
            "           2       0.68      0.85      0.76        73\n",
            "\n",
            "    accuracy                           0.62       200\n",
            "   macro avg       0.61      0.62      0.61       200\n",
            "weighted avg       0.62      0.62      0.61       200\n",
            "\n"
          ]
        }
      ]
    },
    {
      "cell_type": "markdown",
      "source": [
        "Hasilnya nilai F1 Score ada pada angka 0.57 untuk Negative, 0.56 untuk Neutral, dan 0.82 untuk Positive. Hasil ini bisa dikatakan tidak terlalu bagus untuk sebuah model, khususnya pada sentimen Negative dan Netral."
      ],
      "metadata": {
        "id": "qBFdfiFDIhJT"
      }
    },
    {
      "cell_type": "markdown",
      "source": [
        "## Cross Validation"
      ],
      "metadata": {
        "id": "Xifq9WsUUi62"
      }
    },
    {
      "cell_type": "markdown",
      "source": [
        "Mekanisme evaluasi selanjutnya menggunakan \"Cross Validation\", yaitu merotasi porsi testing dari dataset agar bisa melihat model yang sudah kita buat stabil ketika dihadapkan pada data yang berbeda."
      ],
      "metadata": {
        "id": "LQdWbRnuUlw5"
      }
    },
    {
      "cell_type": "markdown",
      "source": [
        "![cross-validation.png](data:image/png;base64,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)"
      ],
      "metadata": {
        "id": "s33ZXP_3Uoul"
      }
    },
    {
      "cell_type": "code",
      "source": [
        "# Untuk lebih menyakinkan lagi, kita juga bisa melakukan \"Cross Validation\"\n",
        "import numpy as np\n",
        "from sklearn.metrics import classification_report\n",
        "from sklearn.metrics import accuracy_score\n",
        "from sklearn.model_selection import KFold\n",
        "\n",
        "kf = KFold(n_splits=5,random_state=42,shuffle=True)\n",
        "\n",
        "accuracies = []\n",
        "\n",
        "y = Y\n",
        "\n",
        "embed_dim = 100\n",
        "units = 64\n",
        "\n",
        "for iteration, data in enumerate(kf.split(X), start=1):\n",
        "\n",
        "    data_train   = X[data[0]]\n",
        "    target_train = y[data[0]]\n",
        "\n",
        "    data_test    = X[data[1]]\n",
        "    target_test  = y[data[1]]\n",
        "\n",
        "    model = Sequential()\n",
        "    model.add(Embedding(max_features, embed_dim, input_length=X.shape[1]))\n",
        "    model.add(SimpleRNN(units, dropout=0.2))\n",
        "    model.add(Dense(3,activation='softmax'))\n",
        "    sgd = optimizers.Adam(lr=0.001)\n",
        "    model.compile(loss = 'binary_crossentropy', optimizer='adam',metrics = ['accuracy'])\n",
        "\n",
        "    adam = optimizers.Adam(lr = 0.001)\n",
        "    model.compile(loss = 'categorical_crossentropy', optimizer = adam, metrics = ['accuracy'])\n",
        "\n",
        "    es = EarlyStopping(monitor='val_loss', mode='min', verbose=1)\n",
        "    history = model.fit(X_train, y_train, epochs=10, batch_size=10, validation_data=(X_test, y_test), verbose=1, callbacks=[es])\n",
        "\n",
        "    predictions = model.predict(X_test)\n",
        "    y_pred = predictions\n",
        "\n",
        "    # for the current fold only\n",
        "    accuracy = accuracy_score(y_test.argmax(axis=1), y_pred.argmax(axis=1))\n",
        "\n",
        "    print(\"Training ke-\", iteration)\n",
        "    print(classification_report(y_test.argmax(axis=1), y_pred.argmax(axis=1)))\n",
        "    print(\"======================================================\")\n",
        "\n",
        "    accuracies.append(accuracy)\n",
        "\n",
        "# this is the average accuracy over all folds\n",
        "average_accuracy = np.mean(accuracies)\n",
        "\n",
        "print()\n",
        "print()\n",
        "print()\n",
        "print(\"Rata-rata Accuracy: \", average_accuracy)"
      ],
      "metadata": {
        "colab": {
          "base_uri": "https://localhost:8080/"
        },
        "id": "kkaxJ4CEUtl_",
        "outputId": "a57e9571-518b-4f8e-a878-8c3e0eb4987c"
      },
      "execution_count": null,
      "outputs": [
        {
          "output_type": "stream",
          "name": "stdout",
          "text": [
            "Epoch 1/10\n"
          ]
        },
        {
          "output_type": "stream",
          "name": "stderr",
          "text": [
            "/usr/local/lib/python3.8/dist-packages/keras/optimizers/optimizer_v2/adam.py:110: UserWarning: The `lr` argument is deprecated, use `learning_rate` instead.\n",
            "  super(Adam, self).__init__(name, **kwargs)\n"
          ]
        },
        {
          "output_type": "stream",
          "name": "stdout",
          "text": [
            "80/80 [==============================] - 6s 67ms/step - loss: 1.0317 - accuracy: 0.4712 - val_loss: 0.9908 - val_accuracy: 0.5350\n",
            "Epoch 2/10\n",
            "80/80 [==============================] - 6s 69ms/step - loss: 0.5562 - accuracy: 0.8425 - val_loss: 1.0696 - val_accuracy: 0.4600\n",
            "Epoch 2: early stopping\n",
            "7/7 [==============================] - 0s 7ms/step\n",
            "Training ke- 1\n",
            "              precision    recall  f1-score   support\n",
            "\n",
            "           0       0.38      0.45      0.41        73\n",
            "           1       0.52      0.26      0.35        54\n",
            "           2       0.52      0.62      0.57        73\n",
            "\n",
            "    accuracy                           0.46       200\n",
            "   macro avg       0.47      0.44      0.44       200\n",
            "weighted avg       0.47      0.46      0.45       200\n",
            "\n",
            "======================================================\n",
            "Epoch 1/10\n"
          ]
        },
        {
          "output_type": "stream",
          "name": "stderr",
          "text": [
            "/usr/local/lib/python3.8/dist-packages/keras/optimizers/optimizer_v2/adam.py:110: UserWarning: The `lr` argument is deprecated, use `learning_rate` instead.\n",
            "  super(Adam, self).__init__(name, **kwargs)\n"
          ]
        },
        {
          "output_type": "stream",
          "name": "stdout",
          "text": [
            "80/80 [==============================] - 7s 71ms/step - loss: 0.9923 - accuracy: 0.5088 - val_loss: 0.9416 - val_accuracy: 0.5400\n",
            "Epoch 2/10\n",
            "80/80 [==============================] - 5s 64ms/step - loss: 0.5344 - accuracy: 0.8400 - val_loss: 0.7718 - val_accuracy: 0.6400\n",
            "Epoch 2: early stopping\n",
            "7/7 [==============================] - 0s 7ms/step\n",
            "Training ke- 2\n",
            "              precision    recall  f1-score   support\n",
            "\n",
            "           0       0.57      0.67      0.62        73\n",
            "           1       0.51      0.35      0.42        54\n",
            "           2       0.78      0.82      0.80        73\n",
            "\n",
            "    accuracy                           0.64       200\n",
            "   macro avg       0.62      0.62      0.61       200\n",
            "weighted avg       0.63      0.64      0.63       200\n",
            "\n",
            "======================================================\n",
            "Epoch 1/10\n"
          ]
        },
        {
          "output_type": "stream",
          "name": "stderr",
          "text": [
            "/usr/local/lib/python3.8/dist-packages/keras/optimizers/optimizer_v2/adam.py:110: UserWarning: The `lr` argument is deprecated, use `learning_rate` instead.\n",
            "  super(Adam, self).__init__(name, **kwargs)\n"
          ]
        },
        {
          "output_type": "stream",
          "name": "stdout",
          "text": [
            "80/80 [==============================] - 7s 75ms/step - loss: 0.9788 - accuracy: 0.5063 - val_loss: 0.9861 - val_accuracy: 0.5200\n",
            "Epoch 2/10\n",
            "80/80 [==============================] - 5s 68ms/step - loss: 0.4810 - accuracy: 0.8825 - val_loss: 0.8045 - val_accuracy: 0.6650\n",
            "Epoch 2: early stopping\n",
            "7/7 [==============================] - 0s 8ms/step\n",
            "Training ke- 3\n",
            "              precision    recall  f1-score   support\n",
            "\n",
            "           0       0.65      0.58      0.61        73\n",
            "           1       0.58      0.69      0.63        54\n",
            "           2       0.76      0.74      0.75        73\n",
            "\n",
            "    accuracy                           0.67       200\n",
            "   macro avg       0.66      0.67      0.66       200\n",
            "weighted avg       0.67      0.67      0.67       200\n",
            "\n",
            "======================================================\n",
            "Epoch 1/10\n"
          ]
        },
        {
          "output_type": "stream",
          "name": "stderr",
          "text": [
            "/usr/local/lib/python3.8/dist-packages/keras/optimizers/optimizer_v2/adam.py:110: UserWarning: The `lr` argument is deprecated, use `learning_rate` instead.\n",
            "  super(Adam, self).__init__(name, **kwargs)\n"
          ]
        },
        {
          "output_type": "stream",
          "name": "stdout",
          "text": [
            "80/80 [==============================] - 6s 67ms/step - loss: 1.0110 - accuracy: 0.4775 - val_loss: 0.9402 - val_accuracy: 0.5750\n",
            "Epoch 2/10\n",
            "80/80 [==============================] - 5s 65ms/step - loss: 0.5653 - accuracy: 0.8250 - val_loss: 0.8745 - val_accuracy: 0.5400\n",
            "Epoch 2: early stopping\n",
            "7/7 [==============================] - 0s 7ms/step\n",
            "Training ke- 4\n",
            "              precision    recall  f1-score   support\n",
            "\n",
            "           0       0.47      0.56      0.51        73\n",
            "           1       0.40      0.31      0.35        54\n",
            "           2       0.72      0.68      0.70        73\n",
            "\n",
            "    accuracy                           0.54       200\n",
            "   macro avg       0.53      0.52      0.52       200\n",
            "weighted avg       0.54      0.54      0.54       200\n",
            "\n",
            "======================================================\n",
            "Epoch 1/10\n"
          ]
        },
        {
          "output_type": "stream",
          "name": "stderr",
          "text": [
            "/usr/local/lib/python3.8/dist-packages/keras/optimizers/optimizer_v2/adam.py:110: UserWarning: The `lr` argument is deprecated, use `learning_rate` instead.\n",
            "  super(Adam, self).__init__(name, **kwargs)\n"
          ]
        },
        {
          "output_type": "stream",
          "name": "stdout",
          "text": [
            "80/80 [==============================] - 6s 67ms/step - loss: 0.9849 - accuracy: 0.4850 - val_loss: 0.9831 - val_accuracy: 0.4850\n",
            "Epoch 2/10\n",
            "80/80 [==============================] - 6s 71ms/step - loss: 0.4852 - accuracy: 0.8838 - val_loss: 0.9554 - val_accuracy: 0.5650\n",
            "Epoch 2: early stopping\n",
            "7/7 [==============================] - 0s 7ms/step\n",
            "Training ke- 5\n",
            "              precision    recall  f1-score   support\n",
            "\n",
            "           0       0.51      0.45      0.48        73\n",
            "           1       0.53      0.30      0.38        54\n",
            "           2       0.61      0.88      0.72        73\n",
            "\n",
            "    accuracy                           0.56       200\n",
            "   macro avg       0.55      0.54      0.53       200\n",
            "weighted avg       0.55      0.56      0.54       200\n",
            "\n",
            "======================================================\n",
            "\n",
            "\n",
            "\n",
            "Rata-rata Accuracy:  0.5740000000000001\n"
          ]
        }
      ]
    },
    {
      "cell_type": "markdown",
      "source": [
        "Hasilnya nilai rata-rata accuracy pada angka 0.60. Ini menunjukkan model kita cukup stabil pada angka 0.60."
      ],
      "metadata": {
        "id": "tR_nJoi8VU26"
      }
    },
    {
      "cell_type": "markdown",
      "metadata": {
        "id": "y9ZlKHaIySGS"
      },
      "source": [
        "## Visualization"
      ]
    },
    {
      "cell_type": "markdown",
      "source": [
        "Mekanisme evaluasi selanjutnya menggunakan \"Visualization\", yaitu mengecek performa training dari arah visualisasinya. Acuan apakah visualisasi bagus atau tidak \"Good Fit\", sebagai berikut:"
      ],
      "metadata": {
        "id": "oYJEuLEbO5Ep"
      }
    },
    {
      "cell_type": "markdown",
      "source": [
        "**Overfitting**\n",
        "\n",
        "![Overfitting.webp](data:image/webp;base64,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)"
      ],
      "metadata": {
        "id": "gN4Tkxe0QLHr"
      }
    },
    {
      "cell_type": "markdown",
      "source": [
        "**Underfitting**\n",
        "![underfitting-1.webp](data:image/webp;base64,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)\n",
        "\n",
        "![underfitting-2.webp](data:image/webp;base64,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)"
      ],
      "metadata": {
        "id": "r3Y3KiULRyZc"
      }
    },
    {
      "cell_type": "markdown",
      "source": [
        "**Good Fit**\n",
        "\n",
        "![fitting.webp](data:image/webp;base64,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)"
      ],
      "metadata": {
        "id": "i33eXwfySElv"
      }
    },
    {
      "cell_type": "code",
      "metadata": {
        "id": "Zb_uNKEFr7eh",
        "colab": {
          "base_uri": "https://localhost:8080/",
          "height": 337
        },
        "outputId": "40871451-b4ae-48bf-df67-7a5b4bce21ed"
      },
      "source": [
        "# history.history\n",
        "import matplotlib.pyplot as plt\n",
        "plt.style.use('ggplot')\n",
        "\n",
        "def plot_history(history):\n",
        "    acc = history.history['accuracy']\n",
        "    val_acc = history.history['val_accuracy']\n",
        "    loss = history.history['loss']\n",
        "    val_loss = history.history['val_loss']\n",
        "    x = range(1, len(acc) + 1)\n",
        "\n",
        "    plt.figure(figsize=(12, 5))\n",
        "    plt.subplot(1, 2, 1)\n",
        "    plt.plot(x, acc, 'b', label='Training acc')\n",
        "    plt.plot(x, val_acc, 'r', label='Validation acc')\n",
        "    plt.title('Training and validation accuracy')\n",
        "    plt.legend()\n",
        "    plt.subplot(1, 2, 2)\n",
        "    plt.plot(x, loss, 'b', label='Training loss')\n",
        "    plt.plot(x, val_loss, 'r', label='Validation loss')\n",
        "    plt.title('Training and validation loss')\n",
        "    plt.legend()\n",
        "\n",
        "%matplotlib inline\n",
        "plot_history(history)"
      ],
      "execution_count": null,
      "outputs": [
        {
          "output_type": "display_data",
          "data": {
            "text/plain": [
              "<Figure size 864x360 with 2 Axes>"
            ],
            "image/png": "[encoded data removed]"
          },
          "metadata": {
            "needs_background": "light"
          }
        }
      ]
    },
    {
      "cell_type": "markdown",
      "source": [
        "Hasilnya jika kita melihat visualisasinya model yang kita kembangkan tergolong Underfitting. Disinyalir karena:\n",
        "\n",
        "\n",
        "*   Data training terlalu sedikit\n",
        "*   Proses training berhenti terlalu cepat. Mungkin saja penerapan EarlyStopping untuk kasus kita tidak terlalu tepat\n",
        "\n"
      ],
      "metadata": {
        "id": "Lm8NcKq5SwcF"
      }
    },
    {
      "cell_type": "code",
      "metadata": {
        "id": "kr410_pO5qKc",
        "colab": {
          "base_uri": "https://localhost:8080/"
        },
        "outputId": "0c722a6b-4bd7-4cc1-b1fd-f1116cf5e9a8"
      },
      "source": [
        "model.save('model.h5')\n",
        "print(\"Model has created!\")"
      ],
      "execution_count": null,
      "outputs": [
        {
          "output_type": "stream",
          "name": "stdout",
          "text": [
            "Model has created!\n"
          ]
        }
      ]
    },
    {
      "cell_type": "markdown",
      "metadata": {
        "id": "YobDXU-A0d-A"
      },
      "source": [
        "# Predict"
      ]
    },
    {
      "cell_type": "code",
      "metadata": {
        "id": "TIZsLapT1-3X",
        "colab": {
          "base_uri": "https://localhost:8080/"
        },
        "outputId": "a0e5dcee-e539-4512-ae64-c084acbe7fc7"
      },
      "source": [
        "import re\n",
        "from keras.models import load_model\n",
        "\n",
        "input_text = \"\"\"\n",
        "Rasa syukur, cukup.\n",
        "\"\"\"\n",
        "\n",
        "def cleansing(sent):\n",
        "    # Mengubah kata menjadi huruf kecil semua dengan menggunakan fungsi lower()\n",
        "    string = sent.lower()\n",
        "    # Menghapus emoticon dan tanda baca menggunakan \"RegEx\" dengan script di bawah\n",
        "    string = re.sub(r'[^a-zA-Z0-9]', ' ', string)\n",
        "    return string\n",
        "\n",
        "sentiment = ['negative', 'neutral', 'positive']\n",
        "\n",
        "text = [cleansing(input_text)]\n",
        "predicted = tokenizer.texts_to_sequences(text)\n",
        "guess = pad_sequences(predicted, maxlen=X.shape[1])\n",
        "\n",
        "model = load_model('model.h5')\n",
        "prediction = model.predict(guess)\n",
        "polarity = np.argmax(prediction[0])\n",
        "\n",
        "print(\"Text: \",text[0])\n",
        "print(\"Sentiment: \",sentiment[polarity])"
      ],
      "execution_count": null,
      "outputs": [
        {
          "output_type": "stream",
          "name": "stdout",
          "text": [
            "1/1 [==============================] - 0s 130ms/step\n",
            "Text:   rasa syukur  cukup  \n",
            "Sentiment:  neutral\n"
          ]
        }
      ]
    },
    {
      "cell_type": "code",
      "source": [],
      "metadata": {
        "id": "odbg6QokuNB7"
      },
      "execution_count": null,
      "outputs": []
    }
  ]
}